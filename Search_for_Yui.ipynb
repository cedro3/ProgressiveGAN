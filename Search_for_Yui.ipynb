{
  "nbformat": 4,
  "nbformat_minor": 0,
  "metadata": {
    "accelerator": "GPU",
    "colab": {
      "name": "Search_for_Yui",
      "provenance": [],
      "collapsed_sections": [
        "N6ZDpd9XzFeN"
      ],
      "include_colab_link": true
    },
    "kernelspec": {
      "display_name": "Python 3",
      "language": "python",
      "name": "python3"
    }
  },
  "cells": [
    {
      "cell_type": "markdown",
      "metadata": {
        "id": "view-in-github",
        "colab_type": "text"
      },
      "source": [
        "<a href=\"https://colab.research.google.com/github/cedro3/ProgressiveGAN/blob/master/Search_for_Yui.ipynb\" target=\"_parent\"><img src=\"https://colab.research.google.com/assets/colab-badge.svg\" alt=\"Open In Colab\"/></a>"
      ]
    },
    {
      "cell_type": "markdown",
      "metadata": {
        "colab_type": "text",
        "id": "CxmDMK4yupqg"
      },
      "source": [
        "# Search_for_Yui\n"
      ]
    },
    {
      "cell_type": "markdown",
      "metadata": {
        "id": "h9tnoXs051Ak",
        "colab_type": "text"
      },
      "source": [
        "# Set up"
      ]
    },
    {
      "cell_type": "markdown",
      "metadata": {
        "colab_type": "text",
        "id": "Q4DN769E2O_R"
      },
      "source": [
        "ライブラリーインストール"
      ]
    },
    {
      "cell_type": "code",
      "metadata": {
        "colab_type": "code",
        "id": "KNM3kA0arrUu",
        "colab": {}
      },
      "source": [
        "!pip -q install imageio\n",
        "!pip -q install scikit-image\n",
        "!pip install git+https://github.com/tensorflow/docs"
      ],
      "execution_count": null,
      "outputs": []
    },
    {
      "cell_type": "markdown",
      "metadata": {
        "id": "u4NkAOch2qvN",
        "colab_type": "text"
      },
      "source": [
        "Sampleデータのコピー"
      ]
    },
    {
      "cell_type": "code",
      "metadata": {
        "id": "DGC8bLGo0UF6",
        "colab_type": "code",
        "colab": {}
      },
      "source": [
        "!git clone https://github.com/cedro3/Sample.git"
      ],
      "execution_count": null,
      "outputs": []
    },
    {
      "cell_type": "markdown",
      "metadata": {
        "id": "oubE7WO_P6p5",
        "colab_type": "text"
      },
      "source": [
        "ライブラリーインポートと関数定義"
      ]
    },
    {
      "cell_type": "code",
      "metadata": {
        "cellView": "both",
        "colab_type": "code",
        "id": "6cPY9Ou4sWs_",
        "colab": {}
      },
      "source": [
        "from absl import logging\n",
        "import imageio\n",
        "import PIL.Image\n",
        "import matplotlib.pyplot as plt\n",
        "import numpy as np\n",
        "import tensorflow as tf\n",
        "import tensorflow_hub as hub\n",
        "from tensorflow_docs.vis import embed\n",
        "import time\n",
        "from IPython import display\n",
        "from skimage import transform\n",
        "\n",
        "try:\n",
        "  from google.colab import files\n",
        "except ImportError:\n",
        "  pass\n",
        "\n",
        "latent_dim = 512  # 潜在空間の次元数\n",
        "\n",
        "# 2点間のベクトルを補完\n",
        "def interpolate_hypersphere(v1, v2, num_steps):\n",
        "  v1_norm = tf.norm(v1)\n",
        "  v2_norm = tf.norm(v2)\n",
        "  v2_normalized = v2 * (v1_norm / v2_norm)\n",
        "\n",
        "  vectors = []\n",
        "  for step in range(num_steps):\n",
        "    interpolated = v1 + (v2_normalized - v1) * step / (num_steps - 1)\n",
        "    interpolated_norm = tf.norm(interpolated)\n",
        "    interpolated_normalized = interpolated * (v1_norm / interpolated_norm)\n",
        "    vectors.append(interpolated_normalized)\n",
        "  return tf.stack(vectors)\n",
        "\n",
        "# 画像表示\n",
        "def display_image(image):\n",
        "  image = tf.constant(image)\n",
        "  image = tf.image.convert_image_dtype(image, tf.uint8)\n",
        "  return PIL.Image.fromarray(image.numpy())\n",
        "\n",
        "# 複数の画像からアニメーション\n",
        "def animate(images):\n",
        "  images = np.array(images)\n",
        "  converted_images = np.clip(images * 255, 0, 255).astype(np.uint8)\n",
        "  imageio.mimsave('./animation.gif', converted_images)\n",
        "  return embed.embed_file('./animation.gif')\n",
        "\n",
        "# 多点ベクトル間を補完し、画像を生成\n",
        "def anime(vectors_list):\n",
        "  for i in range(len(vectors_list)-1):\n",
        "      vectors = interpolate_hypersphere(vectors_list[i], vectors_list[i+1], 35)  ### 50 >25\n",
        "      images = progan(vectors)['default']\n",
        "      if i == 0:\n",
        "         anime_images = images\n",
        "      else:\n",
        "         anime_images = tf.concat([anime_images, images], axis=0)\n",
        "  return anime_images\n",
        "\n",
        "# ターゲット画像を生成するベクトルの探索\n",
        "def find_closest_latent_vector(initial_vector, target_image):\n",
        "  num_optimization_steps = 1000\n",
        "  steps_per_image = 25\n",
        "  images = []\n",
        "  losses = []\n",
        "\n",
        "  vector = tf.Variable(initial_vector) \n",
        "  target_image = tf.convert_to_tensor(target_image, np.float32) \n",
        "  optimizer = tf.optimizers.Adam(learning_rate=0.01)\n",
        "  loss_fn = tf.losses.MeanAbsoluteError(reduction=\"sum\")\n",
        "\n",
        "  for step in range(num_optimization_steps):\n",
        "    if (step % 20)==0:  \n",
        "      print('-',end='')\n",
        "    with tf.GradientTape() as tape:\n",
        "      image = progan(vector.read_value())['default'][0]\n",
        "      if (step % steps_per_image) == 0:\n",
        "        images.append(image.numpy())\n",
        "      target_image_difference = loss_fn(image, target_image[:,:,:3])\n",
        "      regularizer = tf.abs(tf.norm(vector) - np.sqrt(latent_dim))\n",
        "      \n",
        "      loss = target_image_difference + regularizer\n",
        "      losses.append(loss.numpy())\n",
        "    grads = tape.gradient(loss, [vector])\n",
        "    optimizer.apply_gradients(zip(grads, [vector]))\n",
        "    \n",
        "  return images, losses, vector.read_value()"
      ],
      "execution_count": null,
      "outputs": []
    },
    {
      "cell_type": "markdown",
      "metadata": {
        "colab_type": "text",
        "id": "nJb9gFmRvynZ"
      },
      "source": [
        "progan 学習済みモデルのダウンロード"
      ]
    },
    {
      "cell_type": "code",
      "metadata": {
        "colab_type": "code",
        "id": "8StEe9x9wGma",
        "colab": {}
      },
      "source": [
        "progan = hub.load(\"https://tfhub.dev/google/progan-128/1\").signatures['default']"
      ],
      "execution_count": null,
      "outputs": []
    },
    {
      "cell_type": "markdown",
      "metadata": {
        "id": "6_Tc3FPe58zx",
        "colab_type": "text"
      },
      "source": [
        "# モデルを使ってみる"
      ]
    },
    {
      "cell_type": "markdown",
      "metadata": {
        "id": "DNuojjiYS2TS",
        "colab_type": "text"
      },
      "source": [
        "100個のランダムベクトルを元に、学習済みモデルで顔画像を生成"
      ]
    },
    {
      "cell_type": "code",
      "metadata": {
        "id": "yfH6xDp19vuo",
        "colab_type": "code",
        "colab": {}
      },
      "source": [
        "tf.random.set_seed(80)  # 乱数をシード80で初期化\n",
        "vector = tf.random.normal([100, latent_dim])  # ランダムベクトルを100個生成\n",
        "images = progan(vector)['default']  # 学習済みモデルにランダムベクトルを入力し100個画像を生成\n",
        "\n",
        "# 100個の画像を10×10で表示\n",
        "r, c = 10, 10\n",
        "fig, axs = plt.subplots(r, c, figsize=(14,14)) \n",
        "cnt = 0       \n",
        "for i in range(r):\n",
        "    for j in range(c):\n",
        "        axs[i,j].imshow(images[cnt])\n",
        "        axs[i,j].axis('off') \n",
        "        cnt += 1                \n",
        "plt.show()\n",
        "plt.close()"
      ],
      "execution_count": null,
      "outputs": []
    },
    {
      "cell_type": "markdown",
      "metadata": {
        "id": "ROtUv7V_1lNt",
        "colab_type": "text"
      },
      "source": [
        "スマイル成分"
      ]
    },
    {
      "cell_type": "code",
      "metadata": {
        "id": "CW8H7WkSzOp9",
        "colab_type": "code",
        "colab": {}
      },
      "source": [
        "smile = (vector[29] + vector[53] + vector[63] + vector[99])/4  \n",
        "non_smile = (vector[8] + vector[17] + vector[20] + vector[79])/4  \n",
        "smile_vector = smile - non_smile  # スマイル成分の抽出\n",
        "calc_vector = vector[34] + smile_vector  # vector[34]にスマイル成分を足す\n",
        "image_before = display_image(progan(vector[34])['default'][0])  \n",
        "image_after = display_image(progan(calc_vector)['default'][0])  \n",
        "display_image(np.concatenate([image_before, image_after], axis=1))"
      ],
      "execution_count": null,
      "outputs": []
    },
    {
      "cell_type": "markdown",
      "metadata": {
        "id": "_X3GIAi2wqOD",
        "colab_type": "text"
      },
      "source": [
        "\n",
        "サングラス成分\n",
        "\n",
        "\n"
      ]
    },
    {
      "cell_type": "code",
      "metadata": {
        "id": "CEprjCO1py7C",
        "colab_type": "code",
        "colab": {}
      },
      "source": [
        "glass_vector = vector[38] - vector[86]   # サングラス成分\n",
        "calc_vector = vector[24] + glass_vector  # vector[24]にサングラス成分を足す \n",
        "image_before = display_image(progan(vector[24])['default'][0])  \n",
        "image_after = display_image(progan(calc_vector)['default'][0])  \n",
        "display_image(np.concatenate([image_before, image_after], axis=1))"
      ],
      "execution_count": null,
      "outputs": []
    },
    {
      "cell_type": "markdown",
      "metadata": {
        "id": "Wymv29U3WTUa",
        "colab_type": "text"
      },
      "source": [
        "ベクトル間補完のアニメーション"
      ]
    },
    {
      "cell_type": "code",
      "metadata": {
        "id": "JV4Xs3Rt4M07",
        "colab_type": "code",
        "colab": {}
      },
      "source": [
        "vectors_list = [vector[29], vector[71], vector[96], vector[97], vector[53], vector[3], vector[29]]  # ベクトルの指定 \n",
        "anime_images = anime(vectors_list)  # 指定されたベクトル間を補完し、画像を生成\n",
        "animate(anime_images)  "
      ],
      "execution_count": null,
      "outputs": []
    },
    {
      "cell_type": "markdown",
      "metadata": {
        "id": "6diCnRchC61l",
        "colab_type": "text"
      },
      "source": [
        "# 潜在空間の画像ベクトル探索"
      ]
    },
    {
      "cell_type": "markdown",
      "metadata": {
        "colab_type": "text",
        "id": "rBIt3Q4qvhuq"
      },
      "source": [
        "初期ベクトル(initial_vector)の設定"
      ]
    },
    {
      "cell_type": "code",
      "metadata": {
        "colab_type": "code",
        "id": "cUGakLdbML2Q",
        "colab": {}
      },
      "source": [
        "initial_vector = vector[53]\n",
        "display_image(progan(initial_vector)['default'][0])"
      ],
      "execution_count": null,
      "outputs": []
    },
    {
      "cell_type": "markdown",
      "metadata": {
        "colab_type": "text",
        "id": "L9-uXoTHuXQC"
      },
      "source": [
        "ターゲット画像(target_image)のアップロード\\\n",
        "コードを実行したら、**「ファイル選択」**ボタンを押して、Sample/target_pic/0026.jpgを選択して下さい。\\\n",
        "＊PCにオリジナル画像がある場合は、その画像を選択して下さい。\n",
        "\n"
      ]
    },
    {
      "cell_type": "code",
      "metadata": {
        "id": "hIESjY7_58O3",
        "colab_type": "code",
        "colab": {}
      },
      "source": [
        "try:\n",
        "  from google.colab import files\n",
        "except ImportError:\n",
        "  pass\n",
        "\n",
        "uploaded = files.upload()\n",
        "image = imageio.imread(uploaded[list(uploaded.keys())[0]])\n",
        "target_image = transform.resize(image, [128, 128])\n",
        "display_image(target_image)"
      ],
      "execution_count": null,
      "outputs": []
    },
    {
      "cell_type": "markdown",
      "metadata": {
        "id": "3fqPwhl6VSts",
        "colab_type": "text"
      },
      "source": [
        "ターゲット画像に最も近い画像を生成するベクトルの探索"
      ]
    },
    {
      "cell_type": "code",
      "metadata": {
        "colab_type": "code",
        "id": "q_4Z7tnyg-ZY",
        "colab": {}
      },
      "source": [
        "# ターゲット画像を生成するベクトルの探索\n",
        "images, loss, target_vector = find_closest_latent_vector(initial_vector, target_image)\n",
        "\n",
        "# ロス推移表示\n",
        "plt.plot(loss)\n",
        "plt.ylim([0,max(plt.ylim())])\n",
        "plt.show()\n",
        "print()\n",
        "print('loss = ', loss[-1])\n",
        "\n",
        "# ターゲット画像とターゲットベクトルから生成した画像の表示\n",
        "display_image(np.concatenate([target_image, images[-1]],  axis=1))"
      ],
      "execution_count": null,
      "outputs": []
    },
    {
      "cell_type": "markdown",
      "metadata": {
        "id": "QCB7P3J2aLYy",
        "colab_type": "text"
      },
      "source": [
        "target_vectorの周辺の探索"
      ]
    },
    {
      "cell_type": "code",
      "metadata": {
        "id": "eKdcSm21osp9",
        "colab_type": "code",
        "colab": {}
      },
      "source": [
        "target = target_vector + vector/10\n",
        "images = progan(target)['default']\n",
        "\n",
        "r, c = 8, 8\n",
        "fig, axs = plt.subplots(r, c, figsize=(15,15)) \n",
        "cnt = 0       \n",
        "for i in range(r):\n",
        "    for j in range(c):\n",
        "        axs[i,j].imshow(images[cnt])\n",
        "        axs[i,j].axis('off') \n",
        "        cnt += 1                \n",
        "plt.show()\n",
        "plt.close()"
      ],
      "execution_count": null,
      "outputs": []
    }
  ]
}