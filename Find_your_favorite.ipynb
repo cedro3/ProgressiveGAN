{
  "nbformat": 4,
  "nbformat_minor": 0,
  "metadata": {
    "accelerator": "GPU",
    "colab": {
      "name": "Find_your_favorite",
      "provenance": [],
      "collapsed_sections": [],
      "include_colab_link": true
    },
    "kernelspec": {
      "display_name": "Python 3",
      "language": "python",
      "name": "python3"
    }
  },
  "cells": [
    {
      "cell_type": "markdown",
      "metadata": {
        "id": "view-in-github",
        "colab_type": "text"
      },
      "source": [
        "<a href=\"https://colab.research.google.com/github/cedro3/ProgressiveGAN/blob/master/Find_your_favorite.ipynb\" target=\"_parent\"><img src=\"https://colab.research.google.com/assets/colab-badge.svg\" alt=\"Open In Colab\"/></a>"
      ]
    },
    {
      "cell_type": "markdown",
      "metadata": {
        "colab_type": "text",
        "id": "Q4DN769E2O_R"
      },
      "source": [
        "ライブラリーインストール"
      ]
    },
    {
      "cell_type": "code",
      "metadata": {
        "colab_type": "code",
        "id": "KNM3kA0arrUu",
        "colab": {}
      },
      "source": [
        "!pip -q install imageio\n",
        "!pip -q install scikit-image\n",
        "!pip install git+https://github.com/tensorflow/docs"
      ],
      "execution_count": null,
      "outputs": []
    },
    {
      "cell_type": "markdown",
      "metadata": {
        "id": "oubE7WO_P6p5",
        "colab_type": "text"
      },
      "source": [
        "ライブラリーインポートと関数定義"
      ]
    },
    {
      "cell_type": "code",
      "metadata": {
        "cellView": "both",
        "colab_type": "code",
        "id": "6cPY9Ou4sWs_",
        "colab": {}
      },
      "source": [
        "from absl import logging\n",
        "import imageio\n",
        "import PIL.Image\n",
        "import matplotlib.pyplot as plt\n",
        "import numpy as np\n",
        "import tensorflow as tf\n",
        "import tensorflow_hub as hub\n",
        "from tensorflow_docs.vis import embed\n",
        "import time\n",
        "from IPython import display\n",
        "from skimage import transform\n",
        "\n",
        "# 画像複数表示\n",
        "def display_images(vectors):\n",
        "  images = progan(vectors)['default'] \n",
        "\n",
        "  fig = plt.figure(figsize=(30, 40))      \n",
        "  for i in range(len(vectors)):\n",
        "      ax = fig.add_subplot(10, 10, i+1, xticks=[], yticks=[])\n",
        "      ax.imshow(images[i])\n",
        "      ax.set_xlabel('vec_'+str(i), fontsize=13)               \n",
        "  plt.show()\n",
        "  plt.close()"
      ],
      "execution_count": null,
      "outputs": []
    },
    {
      "cell_type": "markdown",
      "metadata": {
        "colab_type": "text",
        "id": "nJb9gFmRvynZ"
      },
      "source": [
        "progan 学習済みモデルのダウンロード"
      ]
    },
    {
      "cell_type": "code",
      "metadata": {
        "colab_type": "code",
        "id": "8StEe9x9wGma",
        "colab": {}
      },
      "source": [
        "progan = hub.load(\"https://tfhub.dev/google/progan-128/1\").signatures['default']"
      ],
      "execution_count": null,
      "outputs": []
    },
    {
      "cell_type": "markdown",
      "metadata": {
        "id": "DNuojjiYS2TS",
        "colab_type": "text"
      },
      "source": [
        "学習の初期化"
      ]
    },
    {
      "cell_type": "code",
      "metadata": {
        "id": "WQXm-_3Xd7aL",
        "colab_type": "code",
        "colab": {}
      },
      "source": [
        "#　学習の初期化\n",
        "tf.random.set_seed(80)  \n",
        "vectors = tf.zeros([5,512])\n",
        "plus_vector = tf.zeros([1,512])\n",
        "minus_vector = tf.zeros([1,512])"
      ],
      "execution_count": null,
      "outputs": []
    },
    {
      "cell_type": "markdown",
      "metadata": {
        "id": "cSxgcZG8M__P",
        "colab_type": "text"
      },
      "source": [
        "表示画像を見て、好みのベクトルは「plus」, 嫌いなベクトルは「minus」を選択してコードを実行"
      ]
    },
    {
      "cell_type": "code",
      "metadata": {
        "id": "8d3CFXcEd7o0",
        "colab_type": "code",
        "cellView": "form",
        "colab": {}
      },
      "source": [
        "#@title please, you change the selected action if you need. \n",
        "vec_0 = 'nothing' #@param ['plus', 'nothing', 'minus']\n",
        "vec_1 = 'nothing' #@param ['plus', 'nothing', 'minus']\n",
        "vec_2 = 'nothing' #@param ['plus', 'nothing', 'minus']\n",
        "vec_3 = 'nothing' #@param ['plus', 'nothing', 'minus']\n",
        "vec_4 = 'nothing' #@param ['plus', 'nothing', 'minus']\n",
        "vec = [vec_0, vec_1, vec_2, vec_3, vec_4]\n",
        "\n",
        "for i in range(len(vectors)):\n",
        "    if vec[i] == 'plus':\n",
        "      plus_vector = tf.concat([plus_vector, tf.reshape(vectors[i],[1,512])],axis=0)\n",
        "\n",
        "    if vec[i] == 'minus':\n",
        "      minus_vector = tf.concat([minus_vector, tf.reshape(vectors[i],[1,512])], axis=0)\n",
        "\n",
        "print('number of plus_vector = ', len(plus_vector)-1)\n",
        "print('number of minus_vector = ', len(minus_vector)-1)\n",
        "\n",
        "plus_vector_mean = tf.reduce_mean(plus_vector, axis=0) # plus_vectorの平均をとる\n",
        "minus_vector_mean = tf.reduce_mean(minus_vector, axis=0)  # minus_vectorの平均をとる\n",
        "\n",
        "vectors = tf.random.normal([5, 512])  # ランダムベクトル取得\n",
        "vectors = vectors + plus_vector_mean - minus_vector_mean  # ベクトルの補正\n",
        "display_images(vectors)"
      ],
      "execution_count": null,
      "outputs": []
    }
  ]
}